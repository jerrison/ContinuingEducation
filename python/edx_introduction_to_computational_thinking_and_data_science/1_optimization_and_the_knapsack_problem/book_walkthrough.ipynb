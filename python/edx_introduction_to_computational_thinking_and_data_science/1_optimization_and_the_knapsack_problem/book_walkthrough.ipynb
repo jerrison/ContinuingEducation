{
 "cells": [
  {
   "cell_type": "code",
   "execution_count": 2,
   "metadata": {},
   "outputs": [],
   "source": [
    "class Node(object):\n",
    "    def __init__(self, name):\n",
    "        \"\"\"Assumes name is a string\"\"\"\n",
    "        self.name = name\n",
    "    # from github post, using setters and getters is not the most pythonic way\n",
    "    # of setting and getting object attributes\n",
    "\n",
    "    def getName(self):\n",
    "        return self.name\n",
    "\n",
    "    def __str__(self):\n",
    "        return self.name\n",
    "\n",
    "\n",
    "class Edge(object):\n",
    "    def __init__(self, src, dest):\n",
    "        \"\"\"Assumes src and dest are nodes\"\"\"\n",
    "        # J.L.: src and dest are nodes object from class Nodes\n",
    "        self.src = src\n",
    "        self.dest = dest\n",
    "        # J.L.: when an Edge object is created, a src and dest must be provided\n",
    "\n",
    "    def getSource(self):\n",
    "        return self.src\n",
    "\n",
    "    def getDestination(self):\n",
    "        return self.dest\n",
    "\n",
    "    def __str__(self):\n",
    "        return self.src.getName() + '->' + self.dest.getName()\n",
    "\n",
    "\n",
    "class WeightedEdge(Edge):\n",
    "    def __init__(self, src, dest, weight=1.0):\n",
    "        \"\"\"Assumes src and dest are nodes, weight a number\"\"\"\n",
    "        self.src = src\n",
    "        self.dest = dest\n",
    "        self.weight = weight\n",
    "\n",
    "    def getWeight(self):\n",
    "        return self.weight\n",
    "\n",
    "    def __str__(self):\n",
    "        return self.src.getName() + '->(' + str(self.weight) + ')'\\\n",
    "            + self.dest.getName()"
   ]
  },
  {
   "cell_type": "code",
   "execution_count": null,
   "metadata": {},
   "outputs": [],
   "source": []
  }
 ],
 "metadata": {
  "kernelspec": {
   "display_name": "Python 3",
   "language": "python",
   "name": "python3"
  },
  "language_info": {
   "codemirror_mode": {
    "name": "ipython",
    "version": 3
   },
   "file_extension": ".py",
   "mimetype": "text/x-python",
   "name": "python",
   "nbconvert_exporter": "python",
   "pygments_lexer": "ipython3",
   "version": "3.6.5"
  },
  "toc": {
   "nav_menu": {},
   "number_sections": true,
   "sideBar": true,
   "skip_h1_title": false,
   "toc_cell": false,
   "toc_position": {},
   "toc_section_display": "block",
   "toc_window_display": false
  }
 },
 "nbformat": 4,
 "nbformat_minor": 2
}
