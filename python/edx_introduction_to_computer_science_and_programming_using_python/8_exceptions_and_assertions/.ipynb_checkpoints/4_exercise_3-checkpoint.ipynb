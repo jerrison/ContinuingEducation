{
 "cells": [
  {
   "cell_type": "markdown",
   "metadata": {},
   "source": [
    "Consider the function normalize that takes as input a list of positive numbers numbers and returns a list of numbers that are a fraction of the maximum element in the list. Try to answer the questions without running the code. Check your answers, then run the code for the ones you get wrong. You'll learn the most this way, by figuring things out, instead of just running the code and reading off the answers.\n",
    "```python\n",
    "def normalize(numbers):\n",
    "    max_number = max(numbers)\n",
    "    for i in range(len(numbers)):\n",
    "        numbers[i] /= float(max_number)\n",
    "    return numbers  \n",
    "```\n",
    "The code below tries to call `normalize` with one particular input. Answer the next 5 questions based on the following code.\n",
    "```python\n",
    "try:\n",
    "      normalize([0, 0, 0])\n",
    "except ZeroDivisionError:\n",
    "      print('Invalid maximum element')\n",
    "```"
   ]
  },
  {
   "cell_type": "markdown",
   "metadata": {},
   "source": [
    "***\n",
    "1.Does the `try` block throw (also known as raise) an exception?\n",
    "\n",
    "A: Yes"
   ]
  },
  {
   "cell_type": "markdown",
   "metadata": {},
   "source": [
    "***\n",
    "2.What is the name of the exception the code is trying to catch?\n",
    "\n",
    "A: ZeroDivisionError"
   ]
  },
  {
   "cell_type": "markdown",
   "metadata": {},
   "source": [
    "***\n",
    "3.What is the output?\n",
    "\n",
    "A: Invalid maximum element"
   ]
  },
  {
   "cell_type": "markdown",
   "metadata": {},
   "source": [
    "***\n",
    "4.Since we are dividing by the maximum element in a list of positive numbers, we know that normalize will return a value between 0 and 1. What type of condition is this?\n",
    "\n",
    "A: post condition"
   ]
  },
  {
   "cell_type": "markdown",
   "metadata": {},
   "source": [
    "***\n",
    "5.We also know the result is not meaningful when the maximum element is 0, so we want to ensure that the numbers in the list do not violate this. What type of condition is this?\n",
    "\n",
    "A: pre condition"
   ]
  },
  {
   "cell_type": "markdown",
   "metadata": {},
   "source": [
    "Now assume the definition of the function `normalize` is rewritten as follows\n",
    "```python\n",
    "def normalize(numbers):\n",
    "    max_number = max(numbers)\n",
    "    assert(max_number != 0), \"Cannot divide by 0\"\n",
    "    for i in range(len(numbers)):\n",
    "        numbers[i]  /= float(max_number)\n",
    "        assert(0.0 <= numbers[i] <= 1.0), \"output not between 0 and 1\"\n",
    "    return numbers   \n",
    "```\n",
    "Answer the next 3 questions based on this code."
   ]
  },
  {
   "cell_type": "markdown",
   "metadata": {},
   "source": [
    "***\n",
    "1.Which condition does the line `assert(max_number != 0)` correspond to?\n",
    "    \n",
    "    pre condition\n",
    "***\n",
    "2.Which condition does the line `assert(0.0 <= numbers[i] <= 1.0)` correspond to?\n",
    "\n",
    "    post condition\n",
    "***\n",
    "3.What does the function call `normalize([0, 0, 0])` print out?\n",
    "\n",
    "    Cannot divide by 0"
   ]
  },
  {
   "cell_type": "markdown",
   "metadata": {},
   "source": [
    "## Concluding Notes"
   ]
  },
  {
   "cell_type": "markdown",
   "metadata": {},
   "source": [
    "Assert checks if the condition in parenthesis is true.  If false, print message after comma and between quotes."
   ]
  },
  {
   "cell_type": "code",
   "execution_count": null,
   "metadata": {},
   "outputs": [],
   "source": []
  },
  {
   "cell_type": "code",
   "execution_count": null,
   "metadata": {},
   "outputs": [],
   "source": []
  },
  {
   "cell_type": "code",
   "execution_count": null,
   "metadata": {},
   "outputs": [],
   "source": []
  },
  {
   "cell_type": "code",
   "execution_count": null,
   "metadata": {},
   "outputs": [],
   "source": []
  }
 ],
 "metadata": {
  "kernelspec": {
   "display_name": "Python 3",
   "language": "python",
   "name": "python3"
  },
  "language_info": {
   "codemirror_mode": {
    "name": "ipython",
    "version": 3
   },
   "file_extension": ".py",
   "mimetype": "text/x-python",
   "name": "python",
   "nbconvert_exporter": "python",
   "pygments_lexer": "ipython3",
   "version": "3.6.5"
  },
  "toc": {
   "base_numbering": 1,
   "nav_menu": {},
   "number_sections": true,
   "sideBar": true,
   "skip_h1_title": false,
   "title_cell": "Table of Contents",
   "title_sidebar": "Contents",
   "toc_cell": false,
   "toc_position": {},
   "toc_section_display": "block",
   "toc_window_display": false
  }
 },
 "nbformat": 4,
 "nbformat_minor": 2
}
