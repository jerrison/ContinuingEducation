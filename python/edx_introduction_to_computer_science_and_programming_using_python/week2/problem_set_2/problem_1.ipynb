{
 "cells": [
  {
   "cell_type": "code",
   "execution_count": 43,
   "metadata": {},
   "outputs": [],
   "source": [
    "balance = 42\n",
    "annualInterestRate = 0.2\n",
    "monthlyPaymentRate = 0.04\n",
    "\n",
    "\n",
    "def minMonthly(balance, annualInterestRate, monthlyPaymentRate, month=12):\n",
    "    \"\"\" \n",
    "    Prints the balance as of the end of the number of specified months.  This\n",
    "    printed with 2 decimal places.\n",
    "    Inputs: balance -- float: the beginning balance\n",
    "            annualInterestRate -- float: the annual interest rate on the \n",
    "                balance\n",
    "            monthlyPaymentRate -- float: the monthly payment rate from the \n",
    "                customer\n",
    "            month -- integer: the month from at the remaining balance is \n",
    "                desired\n",
    "    Returns: Nonetype\n",
    "    \"\"\"\n",
    "\n",
    "    for i in range(month):\n",
    "        min_payment = balance * monthlyPaymentRate\n",
    "        balance = balance - min_payment\n",
    "        interest = balance * (annualInterestRate / 12.0)\n",
    "        balance = balance + interest\n",
    "        display_month = str(i + 1)\n",
    "\n",
    "    print(\"Remaining balance: \" + \"{:.2f}\".format(balance))"
   ]
  },
  {
   "cell_type": "code",
   "execution_count": 44,
   "metadata": {},
   "outputs": [
    {
     "name": "stdout",
     "output_type": "stream",
     "text": [
      "Remaining balance: 31.38\n"
     ]
    }
   ],
   "source": [
    "minMonthly(balance=balance,\n",
    "           annualInterestRate=annualInterestRate,\n",
    "           monthlyPaymentRate=monthlyPaymentRate)"
   ]
  },
  {
   "cell_type": "code",
   "execution_count": 45,
   "metadata": {},
   "outputs": [
    {
     "name": "stdout",
     "output_type": "stream",
     "text": [
      "Remaining balance: 361.61\n"
     ]
    }
   ],
   "source": [
    "minMonthly(484, 0.2, 0.04)"
   ]
  },
  {
   "cell_type": "code",
   "execution_count": null,
   "metadata": {},
   "outputs": [],
   "source": []
  },
  {
   "cell_type": "code",
   "execution_count": null,
   "metadata": {},
   "outputs": [],
   "source": []
  }
 ],
 "metadata": {
  "kernelspec": {
   "display_name": "Python 3",
   "language": "python",
   "name": "python3"
  },
  "language_info": {
   "codemirror_mode": {
    "name": "ipython",
    "version": 3
   },
   "file_extension": ".py",
   "mimetype": "text/x-python",
   "name": "python",
   "nbconvert_exporter": "python",
   "pygments_lexer": "ipython3",
   "version": "3.6.4"
  },
  "toc": {
   "nav_menu": {},
   "number_sections": true,
   "sideBar": true,
   "skip_h1_title": false,
   "title_cell": "Table of Contents",
   "title_sidebar": "Contents",
   "toc_cell": false,
   "toc_position": {},
   "toc_section_display": true,
   "toc_window_display": false
  }
 },
 "nbformat": 4,
 "nbformat_minor": 2
}
