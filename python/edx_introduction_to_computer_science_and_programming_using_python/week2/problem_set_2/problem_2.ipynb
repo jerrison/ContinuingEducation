{
 "cells": [
  {
   "cell_type": "code",
   "execution_count": 26,
   "metadata": {},
   "outputs": [],
   "source": [
    "def minMonthly(balance_input, annualInterestRate, month=12):\n",
    "    \"\"\" \n",
    "    Prints the lowest payment required to pay off the balance in the input \n",
    "    period.  This payment is a multiple of 10 and it is acceptable for the \n",
    "    balance to be negative at the end.\n",
    "\n",
    "    Inputs: balance -- float: the beginning balance\n",
    "            annualInterestRate -- float: the annual interest rate on the \n",
    "                balance\n",
    "            month -- integer: the months to pay off the balance\n",
    "\n",
    "    Returns: Nonetype\n",
    "    \"\"\"\n",
    "\n",
    "    fixed_payment = 0\n",
    "\n",
    "    while True:\n",
    "        balance = balance_input\n",
    "        fixed_payment += 10\n",
    "        display_fixed_payment = str(fixed_payment)\n",
    "\n",
    "        for i in range(month):\n",
    "            balance = balance - fixed_payment\n",
    "            interest = balance * (annualInterestRate / 12.0)\n",
    "            balance = balance + interest\n",
    "    #         display_month = str(i + 1)\n",
    "\n",
    "        if balance <= 0:\n",
    "            print(\"Lowest Payment: \"\n",
    "                  + display_fixed_payment)\n",
    "            break"
   ]
  },
  {
   "cell_type": "code",
   "execution_count": 27,
   "metadata": {},
   "outputs": [
    {
     "name": "stdout",
     "output_type": "stream",
     "text": [
      "Lowest Payment: 360\n"
     ]
    }
   ],
   "source": [
    "minMonthly(3926, 0.2)"
   ]
  },
  {
   "cell_type": "code",
   "execution_count": null,
   "metadata": {},
   "outputs": [],
   "source": []
  },
  {
   "cell_type": "code",
   "execution_count": null,
   "metadata": {},
   "outputs": [],
   "source": []
  }
 ],
 "metadata": {
  "kernelspec": {
   "display_name": "Python 3",
   "language": "python",
   "name": "python3"
  },
  "language_info": {
   "codemirror_mode": {
    "name": "ipython",
    "version": 3
   },
   "file_extension": ".py",
   "mimetype": "text/x-python",
   "name": "python",
   "nbconvert_exporter": "python",
   "pygments_lexer": "ipython3",
   "version": "3.6.4"
  },
  "toc": {
   "nav_menu": {},
   "number_sections": true,
   "sideBar": true,
   "skip_h1_title": false,
   "title_cell": "Table of Contents",
   "title_sidebar": "Contents",
   "toc_cell": false,
   "toc_position": {},
   "toc_section_display": true,
   "toc_window_display": false
  }
 },
 "nbformat": 4,
 "nbformat_minor": 2
}
