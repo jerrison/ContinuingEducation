{
 "cells": [
  {
   "cell_type": "markdown",
   "metadata": {},
   "source": [
    "Consider the following function definition:\n",
    "```python\n",
    "def f(n):\n",
    "   \"\"\"\n",
    "   n: integer, n >= 0.\n",
    "   \"\"\"\n",
    "   if n == 0:\n",
    "      return n\n",
    "   else:\n",
    "      return n * f(n-1)\n",
    "```\n",
    "When we call `f(3)` we expect the result 6, but we get 0.\n",
    "\n",
    "When we call `f(1)` we expect the result 1, but we get 0.\n",
    "\n",
    "When we call `f(0)` we expect the result 1, but we get 0.\n"
   ]
  },
  {
   "cell_type": "code",
   "execution_count": 4,
   "metadata": {},
   "outputs": [],
   "source": [
    "def f(n):\n",
    "   \"\"\"\n",
    "   n: integer, n >= 0.\n",
    "   \"\"\"\n",
    "   if n == 0:\n",
    "      return 1\n",
    "   else:\n",
    "      return n * f(n-1)"
   ]
  },
  {
   "cell_type": "code",
   "execution_count": 8,
   "metadata": {},
   "outputs": [
    {
     "data": {
      "text/plain": [
       "1"
      ]
     },
     "execution_count": 8,
     "metadata": {},
     "output_type": "execute_result"
    }
   ],
   "source": [
    "f(0)"
   ]
  },
  {
   "cell_type": "code",
   "execution_count": null,
   "metadata": {},
   "outputs": [],
   "source": []
  }
 ],
 "metadata": {
  "kernelspec": {
   "display_name": "Python 3",
   "language": "python",
   "name": "python3"
  },
  "language_info": {
   "codemirror_mode": {
    "name": "ipython",
    "version": 3
   },
   "file_extension": ".py",
   "mimetype": "text/x-python",
   "name": "python",
   "nbconvert_exporter": "python",
   "pygments_lexer": "ipython3",
   "version": "3.6.5"
  },
  "toc": {
   "base_numbering": 1,
   "nav_menu": {},
   "number_sections": true,
   "sideBar": true,
   "skip_h1_title": false,
   "title_cell": "Table of Contents",
   "title_sidebar": "Contents",
   "toc_cell": false,
   "toc_position": {},
   "toc_section_display": true,
   "toc_window_display": false
  }
 },
 "nbformat": 4,
 "nbformat_minor": 2
}
