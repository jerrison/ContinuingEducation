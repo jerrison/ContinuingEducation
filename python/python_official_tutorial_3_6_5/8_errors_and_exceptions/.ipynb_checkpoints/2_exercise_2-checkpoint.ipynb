{
 "cells": [
  {
   "cell_type": "markdown",
   "metadata": {},
   "source": [
    "These questions will ask you to write what the code prints out. If an exception is raised that is not handled by the code write \"error\" (no quotes), in addition to any other text that is output.\n",
    "\n",
    "The function in the following questions takes a list of integers numbers and a position index, and divides each entry in the list of numbers by the value at entry index.\n",
    "\n",
    "Write what it prints out, separating what appears on a new line by a comma and a space.\n",
    "\n",
    "***"
   ]
  },
  {
   "cell_type": "markdown",
   "metadata": {},
   "source": [
    "### Problem 1\n",
    "```python\n",
    "def fancy_divide(numbers,index):\n",
    "    try:\n",
    "        denom = numbers[index]\n",
    "        for i in range(len(numbers)):\n",
    "            numbers[i] /= denom\n",
    "    except IndexError:\n",
    "        print(\"-1\")\n",
    "    else:\n",
    "        print(\"1\")\n",
    "    finally:\n",
    "        print(\"0\")\n",
    "```"
   ]
  },
  {
   "cell_type": "markdown",
   "metadata": {},
   "source": [
    "What does `fancy_divide([0, 2, 4], 1)` print out?"
   ]
  },
  {
   "cell_type": "markdown",
   "metadata": {},
   "source": [
    "1, 0"
   ]
  },
  {
   "cell_type": "markdown",
   "metadata": {},
   "source": [
    "What does `fancy_divide([0, 2, 4], 4)` print out?"
   ]
  },
  {
   "cell_type": "markdown",
   "metadata": {},
   "source": [
    "-1, 0"
   ]
  },
  {
   "cell_type": "markdown",
   "metadata": {},
   "source": [
    "What does `fancy_divide([0, 2, 4], 0)` print out?"
   ]
  },
  {
   "cell_type": "markdown",
   "metadata": {},
   "source": [
    "error, 0"
   ]
  },
  {
   "cell_type": "markdown",
   "metadata": {},
   "source": [
    "error"
   ]
  },
  {
   "cell_type": "markdown",
   "metadata": {},
   "source": [
    "### Problem 2\n",
    "***\n",
    "```python\n",
    "def fancy_divide(numbers, index):\n",
    "    try:\n",
    "        denom = numbers[index]\n",
    "        for i in range(len(numbers)):\n",
    "            numbers[i] /= denom\n",
    "    except IndexError:\n",
    "        fancy_divide(numbers, len(numbers) - 1)\n",
    "    except ZeroDivisionError:\n",
    "        print(\"-2\")\n",
    "    else:\n",
    "        print(\"1\")\n",
    "    finally:\n",
    "        print(\"0\")\n",
    "```"
   ]
  },
  {
   "cell_type": "markdown",
   "metadata": {},
   "source": [
    "What does `fancy_divide([0, 2, 4], 1)` print out?"
   ]
  },
  {
   "cell_type": "markdown",
   "metadata": {},
   "source": [
    "1 , 0"
   ]
  },
  {
   "cell_type": "markdown",
   "metadata": {},
   "source": [
    "What does `fancy_divide([0, 2, 4], 4)` print out?"
   ]
  },
  {
   "cell_type": "markdown",
   "metadata": {},
   "source": [
    "1, 0"
   ]
  },
  {
   "cell_type": "markdown",
   "metadata": {},
   "source": [
    "What does `fancy_divide([0, 2, 4], 0)` print out?"
   ]
  },
  {
   "cell_type": "markdown",
   "metadata": {},
   "source": [
    "-2, 0"
   ]
  },
  {
   "cell_type": "markdown",
   "metadata": {},
   "source": [
    "### Problem 3\n",
    "***\n",
    "```python\n",
    "def fancy_divide(numbers, index):\n",
    "    try:\n",
    "        try:\n",
    "            denom = numbers[index]\n",
    "            for i in range(len(numbers)):\n",
    "                numbers[i] /= denom\n",
    "        except IndexError:\n",
    "            fancy_divide(numbers, len(numbers) - 1)\n",
    "        else:\n",
    "            print(\"1\")\n",
    "        finally:\n",
    "            print(\"0\")\n",
    "    except ZeroDivisionError:\n",
    "        print(\"-2\")\n",
    "```"
   ]
  },
  {
   "cell_type": "markdown",
   "metadata": {},
   "source": [
    "What does `fancy_divide([0, 2, 4], 1)` print out?"
   ]
  },
  {
   "cell_type": "markdown",
   "metadata": {},
   "source": [
    "1, 0"
   ]
  },
  {
   "cell_type": "markdown",
   "metadata": {},
   "source": [
    "What does `fancy_divide([0, 2, 4], 4)` print out?"
   ]
  },
  {
   "cell_type": "markdown",
   "metadata": {},
   "source": [
    "1, 0"
   ]
  },
  {
   "cell_type": "markdown",
   "metadata": {},
   "source": [
    "What does `fancy_divide([0, 2, 4], 0)` print out?"
   ]
  },
  {
   "cell_type": "markdown",
   "metadata": {},
   "source": [
    "0, -2"
   ]
  },
  {
   "cell_type": "markdown",
   "metadata": {},
   "source": [
    "### Problem 4\n",
    "***\n",
    "```python\n",
    "def fancy_divide(list_of_numbers, index):\n",
    "    try:\n",
    "        try:\n",
    "            raise Exception(\"0\")\n",
    "        finally:\n",
    "            denom = list_of_numbers[index]\n",
    "            for i in range(len(list_of_numbers)):\n",
    "                list_of_numbers[i] /= denom\n",
    "    except Exception as ex:\n",
    "        print(ex)\n",
    "        \n",
    "```"
   ]
  },
  {
   "cell_type": "markdown",
   "metadata": {},
   "source": [
    "Does this code print 0 when you call `fancy_divide([0, 2, 4], 0)`?"
   ]
  },
  {
   "cell_type": "markdown",
   "metadata": {},
   "source": [
    "Yes"
   ]
  },
  {
   "cell_type": "markdown",
   "metadata": {},
   "source": [
    "Answer is no but why?  Wouldn't raise always evaluate if it is a raise inside a try?"
   ]
  },
  {
   "cell_type": "markdown",
   "metadata": {},
   "source": [
    "### Problem 5\n",
    "\n",
    "***\n",
    "```python\n",
    "def fancy_divide(list_of_numbers, index):\n",
    "    try:\n",
    "        try:\n",
    "            denom = list_of_numbers[index]\n",
    "            for i in range(len(list_of_numbers)):\n",
    "                list_of_numbers[i] /= denom\n",
    "        finally:\n",
    "            raise Exception(\"0\")\n",
    "    except Exception as ex:\n",
    "        print(ex)\n",
    "```"
   ]
  },
  {
   "cell_type": "markdown",
   "metadata": {},
   "source": [
    "Does this print 0 when you call `fancy_divide([0, 2, 4], 0)`?"
   ]
  },
  {
   "cell_type": "markdown",
   "metadata": {},
   "source": [
    "Yes"
   ]
  }
 ],
 "metadata": {
  "kernelspec": {
   "display_name": "Python 3",
   "language": "python",
   "name": "python3"
  },
  "language_info": {
   "codemirror_mode": {
    "name": "ipython",
    "version": 3
   },
   "file_extension": ".py",
   "mimetype": "text/x-python",
   "name": "python",
   "nbconvert_exporter": "python",
   "pygments_lexer": "ipython3",
   "version": "3.6.5"
  },
  "toc": {
   "base_numbering": 1,
   "nav_menu": {},
   "number_sections": true,
   "sideBar": true,
   "skip_h1_title": false,
   "title_cell": "Table of Contents",
   "title_sidebar": "Contents",
   "toc_cell": false,
   "toc_position": {},
   "toc_section_display": true,
   "toc_window_display": false
  }
 },
 "nbformat": 4,
 "nbformat_minor": 2
}
